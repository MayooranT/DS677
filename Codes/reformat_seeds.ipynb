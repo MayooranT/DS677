{
 "cells": [
  {
   "cell_type": "code",
   "execution_count": 2,
   "id": "0bcd1e9a",
   "metadata": {},
   "outputs": [
    {
     "name": "stderr",
     "output_type": "stream",
     "text": [
      "Map: 100%|██████████| 6312/6312 [00:00<00:00, 14818.84 examples/s]\n",
      "Map: 100%|██████████| 6312/6312 [00:00<00:00, 29062.94 examples/s]\n",
      "Creating json from Arrow format: 100%|██████████| 1/1 [00:00<00:00, 452.80ba/s]"
     ]
    },
    {
     "name": "stdout",
     "output_type": "stream",
     "text": [
      "✅ Dataset saved to functions_with_return_cpp_filtered_100000_no_chuck/seed_functions_test.jsonl in the correct format.\n"
     ]
    },
    {
     "name": "stderr",
     "output_type": "stream",
     "text": [
      "\n"
     ]
    }
   ],
   "source": [
    "import ast\n",
    "from datasets import load_from_disk\n",
    "\n",
    "# Load the dataset from disk\n",
    "dataset_path = \"~/Documents/DS677/functions_with_return_cpp_filtered_100000_no_chuck\"\n",
    "ds = load_from_disk(dataset_path)\n",
    "\n",
    "# Step 1: Parse the stringified 'content' field into an actual dict\n",
    "def fix_content(example):\n",
    "    try:\n",
    "        if isinstance(example[\"content\"], str):\n",
    "            example[\"content\"] = ast.literal_eval(example[\"content\"])\n",
    "    except Exception as e:\n",
    "        print(f\"Failed to parse content in example {example.get('id', 'unknown')}: {e}\")\n",
    "    return example\n",
    "\n",
    "ds = ds.map(fix_content)\n",
    "\n",
    "# Step 2: Add a 'seed' column using the actual code string from content['code']\n",
    "def add_seed(example):\n",
    "    try:\n",
    "        example[\"seed\"] = example[\"content\"][\"code\"]\n",
    "    except Exception as e:\n",
    "        print(f\"Missing code in content for example {example.get('id', 'unknown')}: {e}\")\n",
    "        example[\"seed\"] = \"\"\n",
    "    return example\n",
    "\n",
    "ds = ds.map(add_seed)\n",
    "\n",
    "ds = ds.select(range(10))\n",
    "\n",
    "# Step 3: Save the dataset in .jsonl format as expected by self_ossinstruct.py\n",
    "output_path = \"functions_with_return_cpp_filtered_100000_no_chuck/seed_functions_test.jsonl\"\n",
    "ds.to_json(output_path, orient=\"records\", lines=True)\n",
    "\n",
    "print(f\"✅ Dataset saved to {output_path} in the correct format.\")"
   ]
  },
  {
   "cell_type": "code",
   "execution_count": null,
   "id": "4910dbd9",
   "metadata": {},
   "outputs": [],
   "source": []
  }
 ],
 "metadata": {
  "kernelspec": {
   "display_name": "dl",
   "language": "python",
   "name": "python3"
  },
  "language_info": {
   "codemirror_mode": {
    "name": "ipython",
    "version": 3
   },
   "file_extension": ".py",
   "mimetype": "text/x-python",
   "name": "python",
   "nbconvert_exporter": "python",
   "pygments_lexer": "ipython3",
   "version": "3.8.20"
  }
 },
 "nbformat": 4,
 "nbformat_minor": 5
}
