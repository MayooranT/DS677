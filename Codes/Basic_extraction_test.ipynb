{
 "cells": [
  {
   "cell_type": "code",
   "execution_count": 1,
   "id": "3a62385d",
   "metadata": {},
   "outputs": [],
   "source": [
    "# !pip install tree-sitter==0.20.4"
   ]
  },
  {
   "cell_type": "code",
   "execution_count": 2,
   "id": "7eb7c449",
   "metadata": {},
   "outputs": [
    {
     "name": "stderr",
     "output_type": "stream",
     "text": [
      "fatal: destination path 'tree-sitter-cpp' already exists and is not an empty directory.\n"
     ]
    }
   ],
   "source": [
    "!git clone https://github.com/tree-sitter/tree-sitter-cpp"
   ]
  },
  {
   "cell_type": "code",
   "execution_count": 3,
   "id": "acedaa17",
   "metadata": {},
   "outputs": [],
   "source": [
    "import os\n",
    "from tree_sitter import Language, Parser"
   ]
  },
  {
   "cell_type": "code",
   "execution_count": 4,
   "id": "03558cef",
   "metadata": {},
   "outputs": [
    {
     "name": "stdout",
     "output_type": "stream",
     "text": [
      "Shared library already exists. Skipping build.\n"
     ]
    }
   ],
   "source": [
    "# 🛠️ Step 1: Build C++ Tree-sitter Parser (.dll file)\n",
    "\n",
    "# Path to output .dll or .so file\n",
    "build_dir = 'build'\n",
    "so_path = os.path.join(build_dir, 'my-languages.dll')\n",
    "\n",
    "# Only build if not already built\n",
    "if not os.path.exists(so_path):\n",
    "    print(\"Building C++ parser shared library...\")\n",
    "    os.makedirs(build_dir, exist_ok=True)\n",
    "    Language.build_library(\n",
    "        so_path,\n",
    "        [\n",
    "            'tree-sitter-cpp'  # Path to your cloned tree-sitter-cpp repo\n",
    "        ]\n",
    "    )\n",
    "else:\n",
    "    print(\"Shared library already exists. Skipping build.\")\n"
   ]
  },
  {
   "cell_type": "code",
   "execution_count": 5,
   "id": "c5b045ee",
   "metadata": {},
   "outputs": [
    {
     "name": "stdout",
     "output_type": "stream",
     "text": [
      "C++ Parser loaded successfully!\n"
     ]
    }
   ],
   "source": [
    "# 🛠️ Step 2: Load C++ Parser\n",
    "\n",
    "CPP_LANGUAGE = Language(so_path, 'cpp')\n",
    "\n",
    "parser = Parser()\n",
    "parser.set_language(CPP_LANGUAGE)\n",
    "\n",
    "print(\"C++ Parser loaded successfully!\")\n"
   ]
  },
  {
   "cell_type": "code",
   "execution_count": 6,
   "id": "70aafe38",
   "metadata": {},
   "outputs": [],
   "source": [
    "# 🛠️ Step 3: Sample C++ Code (or you can load from .cpp files later)\n",
    "\n",
    "cpp_code = b\"\"\"\n",
    "int add(int a, int b) {\n",
    "    return a + b;\n",
    "}\n",
    "\n",
    "class Point {\n",
    "public:\n",
    "    int x, y;\n",
    "    Point(int a, int b) : x(a), y(b) {}\n",
    "};\n",
    "\"\"\"\n"
   ]
  },
  {
   "cell_type": "code",
   "execution_count": 7,
   "id": "18b27182",
   "metadata": {},
   "outputs": [
    {
     "name": "stdout",
     "output_type": "stream",
     "text": [
      "Parsing completed.\n"
     ]
    }
   ],
   "source": [
    "# 🛠️ Step 4: Parse the C++ Code\n",
    "\n",
    "tree = parser.parse(cpp_code)\n",
    "root_node = tree.root_node\n",
    "\n",
    "print(\"Parsing completed.\")\n"
   ]
  },
  {
   "cell_type": "code",
   "execution_count": 8,
   "id": "8adaabc8",
   "metadata": {},
   "outputs": [],
   "source": [
    "# 🛠️ Step 5: Function Extraction Utility\n",
    "\n",
    "def extract_functions(node, code_bytes):\n",
    "    \"\"\"\n",
    "    Recursively find all function definitions and extract names and code.\n",
    "    \"\"\"\n",
    "    functions = []\n",
    "    if node.type == 'function_definition':\n",
    "        function_name = None\n",
    "        for child in node.children:\n",
    "            if child.type == 'function_declarator':\n",
    "                for subchild in child.children:\n",
    "                    if subchild.type == 'identifier':\n",
    "                        function_name = code_bytes[subchild.start_byte:subchild.end_byte].decode('utf-8')\n",
    "\n",
    "        function_code = code_bytes[node.start_byte:node.end_byte].decode('utf-8')\n",
    "\n",
    "        if function_name:\n",
    "            functions.append((function_name, function_code))\n",
    "\n",
    "    for child in node.children:\n",
    "        functions.extend(extract_functions(child, code_bytes))\n",
    "\n",
    "    return functions\n"
   ]
  },
  {
   "cell_type": "code",
   "execution_count": 9,
   "id": "a00f6379",
   "metadata": {},
   "outputs": [
    {
     "name": "stdout",
     "output_type": "stream",
     "text": [
      "Function 1: add\n",
      "int add(int a, int b) {\n",
      "    return a + b;\n",
      "}\n",
      "==================================================\n",
      "Function 2: Point\n",
      "Point(int a, int b) : x(a), y(b) {}\n",
      "==================================================\n"
     ]
    }
   ],
   "source": [
    "# 🛠️ Step 6: Extract Functions\n",
    "\n",
    "functions = extract_functions(root_node, cpp_code)\n",
    "\n",
    "for idx, (function_name, function_code) in enumerate(functions, 1):\n",
    "    print(f\"Function {idx}: {function_name}\")\n",
    "    print(function_code)\n",
    "    print(\"=\"*50)\n"
   ]
  },
  {
   "cell_type": "code",
   "execution_count": 10,
   "id": "2b332224",
   "metadata": {},
   "outputs": [
    {
     "name": "stdout",
     "output_type": "stream",
     "text": [
      "--- Pair 1 ---\n",
      "Instruction: Write a C++ function named 'add'.\n",
      "Response:\n",
      " int add(int a, int b) {\n",
      "    return a + b;\n",
      "}\n",
      "\n",
      "--- Pair 2 ---\n",
      "Instruction: Write a C++ function named 'Point'.\n",
      "Response:\n",
      " Point(int a, int b) : x(a), y(b) {}\n",
      "\n"
     ]
    }
   ],
   "source": [
    "# 🛠️ Step 7: Generate Instruction-Response Pairs\n",
    "\n",
    "instruction_response_pairs = []\n",
    "\n",
    "for function_name, function_code in functions:\n",
    "    instruction = f\"Write a C++ function named '{function_name}'.\"\n",
    "    response = function_code\n",
    "    instruction_response_pairs.append((instruction, response))\n",
    "\n",
    "# Print sample pairs\n",
    "for idx, (instruction, response) in enumerate(instruction_response_pairs, 1):\n",
    "    print(f\"--- Pair {idx} ---\")\n",
    "    print(\"Instruction:\", instruction)\n",
    "    print(\"Response:\\n\", response)\n",
    "    print()\n"
   ]
  },
  {
   "cell_type": "code",
   "execution_count": null,
   "id": "1dabcae2",
   "metadata": {},
   "outputs": [],
   "source": []
  }
 ],
 "metadata": {
  "kernelspec": {
   "display_name": ".venv",
   "language": "python",
   "name": "python3"
  },
  "language_info": {
   "codemirror_mode": {
    "name": "ipython",
    "version": 3
   },
   "file_extension": ".py",
   "mimetype": "text/x-python",
   "name": "python",
   "nbconvert_exporter": "python",
   "pygments_lexer": "ipython3",
   "version": "3.8.10"
  }
 },
 "nbformat": 4,
 "nbformat_minor": 5
}
