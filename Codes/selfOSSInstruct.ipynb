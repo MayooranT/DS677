{
 "cells": [
  {
   "cell_type": "code",
   "execution_count": 1,
   "id": "2a8a47cc",
   "metadata": {},
   "outputs": [
    {
     "name": "stderr",
     "output_type": "stream",
     "text": [
      "/home/mayooran/miniconda3/envs/dl/lib/python3.8/site-packages/tqdm/auto.py:21: TqdmWarning: IProgress not found. Please update jupyter and ipywidgets. See https://ipywidgets.readthedocs.io/en/stable/user_install.html\n",
      "  from .autonotebook import tqdm as notebook_tqdm\n"
     ]
    },
    {
     "data": {
      "text/plain": [
       "{'content': [\"{'function_name': 'List_1_InsertRange_mDEF514565A34924F191DBC38F0E98BE48AD1AB6A_gshared', 'docstring': '// end finally (depth: 1)', 'code': 'IL2CPP_EXTERN_C IL2CPP_METHOD_ATTR void List_1__ctor_m2716C5BEDCDB58D5B0C144DA4837DAF99E86D871_gshared (List_1_t2DB9B7314D41FB8C9F99391E55195E3865AB0C35 * __this, RuntimeObject* ___collection0, const RuntimeMethod* method)\\\\n{\\\\n\\\\tstatic bool s_Il2CppMethodInitialized;\\\\n\\\\tif (!s_Il2CppMethodInitialized)\\\\n\\\\t{\\\\n\\\\t\\\\til2cpp_codegen_initialize_runtime_metadata((uintptr_t*)&IDisposable_t099785737FC6A1E3699919A94109383715A8D807_il2cpp_TypeInfo_var);\\\\n\\\\t\\\\til2cpp_codegen_initialize_runtime_metadata((uintptr_t*)&IEnumerator_t5956F3AFB7ECF1117E3BC5890E7FC7B7F7A04105_il2cpp_TypeInfo_var);\\\\n\\\\t\\\\ts_Il2CppMethodInitialized = true;\\\\n\\\\t}\\\\n\\\\tRuntimeObject* V_0 = NULL;\\\\n\\\\tint32_t V_1 = 0;\\\\n\\\\tRuntimeObject* V_2 = NULL;\\\\n\\\\tException_t * __last_unhandled_exception = 0;\\\\n\\\\til2cpp::utils::ExceptionSupportStack<int32_t, 1> __leave_targets;\\\\n\\\\t{\\\\n\\\\t\\\\tNullCheck((RuntimeObject *)__this);\\\\n\\\\t\\\\tObject__ctor_m88880E0413421D13FD95325EDCE231707CE1F405((RuntimeObject *)__this, /*hidden argument*/NULL);\\\\n\\\\t\\\\tRuntimeObject* L_0 = ___collection0;\\\\n\\\\t\\\\tif (L_0)\\\\n\\\\t\\\\t{\\\\n\\\\t\\\\t\\\\tgoto IL_000f;\\\\n\\\\t\\\\t}\\\\n\\\\t}\\\\n\\\\t{\\\\n\\\\t\\\\tThrowHelper_ThrowArgumentNullException_m539081110B94B71D92C9761B273E617B23B4BBA5((int32_t)6, /*hidden argument*/NULL);\\\\n\\\\t}\\\\n\\\\nIL_000f:\\\\n\\\\t{\\\\n\\\\t\\\\tRuntimeObject* L_1 = ___collection0;\\\\n\\\\t\\\\tV_0 = (RuntimeObject*)((RuntimeObject*)IsInst((RuntimeObject*)L_1, IL2CPP_RGCTX_DATA(method->klass->rgctx_data, 2)));\\\\n\\\\t\\\\tRuntimeObject* L_2 = V_0;\\\\n\\\\t\\\\tif (!L_2)\\\\n\\\\t\\\\t{\\\\n\\\\t\\\\t\\\\tgoto IL_0050;\\\\n\\\\t\\\\t}\\\\n\\\\t}\\\\n\\\\t{\\\\n\\\\t\\\\tRuntimeObject* L_3 = V_0;\\\\n\\\\t\\\\tNullCheck((RuntimeObject*)L_3);\\\\n\\\\t\\\\tint32_t L_4;\\\\n\\\\t\\\\tL_4 = InterfaceFuncInvoker0< int32_t >::Invoke(0 /* System.Int32 System.Collections.Generic.ICollection`1<kcp2k.Kcp/AckItem>::get_Count() */, IL2CPP_RGCTX_DATA(method->klass->rgctx_data, 2), (RuntimeObject*)L_3);\\\\n\\\\t\\\\tV_1 = (int32_t)L_4;\\\\n\\\\t\\\\tint32_t L_5 = V_1;\\\\n\\\\t\\\\tif (L_5)\\\\n\\\\t\\\\t{\\\\n\\\\t\\\\t\\\\tgoto IL_002f;\\\\n\\\\t\\\\t}\\\\n\\\\t}\\\\n\\\\t{\\\\n\\\\t\\\\tIL2CPP_RUNTIME_CLASS_INIT(IL2CPP_RGCTX_DATA(method->klass->rgctx_data, 0));\\\\n\\\\t\\\\tAckItemU5BU5D_t16E6F0F8EDCAD3760512E2474ED18BA9CF03862C* L_6 = ((List_1_t2DB9B7314D41FB8C9F99391E55195E3865AB0C35_StaticFields*)il2cpp_codegen_static_fields_for(IL2CPP_RGCTX_DATA(method->klass->rgctx_data, 0)))->get__emptyArray_5();\\\\n\\\\t\\\\t__this->set__items_1(L_6);\\\\n\\\\t\\\\treturn;\\\\n\\\\t}\\\\n\\\\nIL_002f:\\\\n\\\\t{\\\\n\\\\t\\\\tint32_t L_7 = V_1;\\\\n\\\\t\\\\tAckItemU5BU5D_t16E6F0F8EDCAD3760512E2474ED18BA9CF03862C* L_8 = (AckItemU5BU5D_t16E6F0F8EDCAD3760512E2474ED18BA9CF03862C*)(AckItemU5BU5D_t16E6F0F8EDCAD3760512E2474ED18BA9CF03862C*)SZArrayNew(IL2CPP_RGCTX_DATA(method->klass->rgctx_data, 1), (uint32_t)L_7);\\\\n\\\\t\\\\t__this->set__items_1(L_8);\\\\n\\\\t\\\\tRuntimeObject* L_9 = V_0;\\\\n\\\\t\\\\tAckItemU5BU5D_t16E6F0F8EDCAD3760512E2474ED18BA9CF03862C* L_10 = (AckItemU5BU5D_t16E6F0F8EDCAD3760512E2474ED18BA9CF03862C*)__this->get__items_1();\\\\n\\\\t\\\\tNullCheck((RuntimeObject*)L_9);\\\\n\\\\t\\\\tInterfaceActionInvoker2< AckItemU5BU5D_t16E6F0F8EDCAD3760512E2474ED18BA9CF03862C*, int32_t >::Invoke(5 /* System.Void System.Collections.Generic.ICollection`1<kcp2k.Kcp/AckItem>::CopyTo(T[],System.Int32) */, IL2CPP_RGCTX_DATA(method->klass->rgctx_data, 2), (RuntimeObject*)L_9, (AckItemU5BU5D_t16E6F0F8EDCAD3760512E2474ED18BA9CF03862C*)L_10, (int32_t)0);\\\\n\\\\t\\\\tint32_t L_11 = V_1;\\\\n\\\\t\\\\t__this->set__size_2(L_11);\\\\n\\\\t\\\\treturn;\\\\n\\\\t}\\\\n\\\\nIL_0050:\\\\n\\\\t{\\\\n\\\\t\\\\t__this->set__size_2(0);\\\\n\\\\t\\\\tIL2CPP_RUNTIME_CLASS_INIT(IL2CPP_RGCTX_DATA(method->klass->rgctx_data, 0));\\\\n\\\\t\\\\tAckItemU5BU5D_t16E6F0F8EDCAD3760512E2474ED18BA9CF03862C* L_12 = ((List_1_t2DB9B7314D41FB8C9F99391E55195E3865AB0C35_StaticFields*)il2cpp_codegen_static_fields_for(IL2CPP_RGCTX_DATA(method->klass->rgctx_data, 0)))->get__emptyArray_5();\\\\n\\\\t\\\\t__this->set__items_1(L_12);\\\\n\\\\t\\\\tRuntimeObject* L_13 = ___collection0;\\\\n\\\\t\\\\tNullCheck((RuntimeObject*)L_13);\\\\n\\\\t\\\\tRuntimeObject* L_14;\\\\n\\\\t\\\\tL_14 = InterfaceFuncInvoker0< RuntimeObject* >::Invoke(0 /* System.Collections.Generic.IEnumerator`1<T> System.Collections.Generic.IEnumerable`1<kcp2k.Kcp/AckItem>::GetEnumerator() */, IL2CPP_RGCTX_DATA(method->klass->rgctx_data, 3), (RuntimeObject*)L_13);\\\\n\\\\t\\\\tV_2 = (RuntimeObject*)L_14;\\\\n\\\\t}\\\\n\\\\nIL_0069:\\\\n\\\\ttry\\\\n\\\\t{ // begin try (depth: 1)\\\\n\\\\t\\\\t{\\\\n\\\\t\\\\t\\\\tgoto IL_0077;\\\\n\\\\t\\\\t}\\\\n\\\\nIL_006b:\\\\n\\\\t\\\\t{\\\\n\\\\t\\\\t\\\\tRuntimeObject* L_15 = V_2;\\\\n\\\\t\\\\t\\\\tNullCheck((RuntimeObject*)L_15);\\\\n\\\\t\\\\t\\\\tAckItem_tD2ED0619A5C91987CDF01FD4C960708EF1524475  L_16;\\\\n\\\\t\\\\t\\\\tL_16 = InterfaceFuncInvoker0< AckItem_tD2ED0619A5C91987CDF01FD4C960708EF1524475  >::Invoke(0 /* T System.Collections.Generic.IEnumerator`1<kcp2k.Kcp/AckItem>::get_Current() */, IL2CPP_RGCTX_DATA(method->klass->rgctx_data, 4), (RuntimeObject*)L_15);\\\\n\\\\t\\\\t\\\\tNullCheck((List_1_t2DB9B7314D41FB8C9F99391E55195E3865AB0C35 *)__this);\\\\n\\\\t\\\\t\\\\t((  void (*) (List_1_t2DB9B7314D41FB8C9F99391E55195E3865AB0C35 *, AckItem_tD2ED0619A5C91987CDF01FD4C960708EF1524475 , const RuntimeMethod*))IL2CPP_RGCTX_METHOD_INFO(method->klass->rgctx_data, 5)->methodPointer)((List_1_t2DB9B7314D41FB8C9F99391E55195E3865AB0C35 *)__this, (AckItem_tD2ED0619A5C91987CDF01FD4C960708EF1524475 )L_16, /*hidden argument*/IL2CPP_RGCTX_METHOD_INFO(method->klass->rgctx_data, 5));\\\\n\\\\t\\\\t}\\\\n\\\\nIL_0077:\\\\n\\\\t\\\\t{\\\\n\\\\t\\\\t\\\\tRuntimeObject* L_17 = V_2;\\\\n\\\\t\\\\t\\\\tNullCheck((RuntimeObject*)L_17);\\\\n\\\\t\\\\t\\\\tbool L_18;\\\\n\\\\t\\\\t\\\\tL_18 = InterfaceFuncInvoker0< bool >::Invoke(0 /* System.Boolean System.Collections.IEnumerator::MoveNext() */, IEnumerator_t5956F3AFB7ECF1117E3BC5890E7FC7B7F7A04105_il2cpp_TypeInfo_var, (RuntimeObject*)L_17);\\\\n\\\\t\\\\t\\\\tif (L_18)\\\\n\\\\t\\\\t\\\\t{\\\\n\\\\t\\\\t\\\\t\\\\tgoto IL_006b;\\\\n\\\\t\\\\t\\\\t}\\\\n\\\\t\\\\t}\\\\n\\\\nIL_007f:\\\\n\\\\t\\\\t{\\\\n\\\\t\\\\t\\\\tIL2CPP_LEAVE(0x8B, FINALLY_0081);\\\\n\\\\t\\\\t}\\\\n\\\\t} // end try (depth: 1)\\\\n\\\\tcatch(Il2CppExceptionWrapper& e)\\\\n\\\\t{\\\\n\\\\t\\\\t__last_unhandled_exception = (Exception_t *)e.ex;\\\\n\\\\t\\\\tgoto FINALLY_0081;\\\\n\\\\t}\\\\n\\\\nFINALLY_0081:\\\\n\\\\t{ // begin finally (depth: 1)\\\\n\\\\t\\\\t{\\\\n\\\\t\\\\t\\\\tRuntimeObject* L_19 = V_2;\\\\n\\\\t\\\\t\\\\tif (!L_19)\\\\n\\\\t\\\\t\\\\t{\\\\n\\\\t\\\\t\\\\t\\\\tgoto IL_008a;\\\\n\\\\t\\\\t\\\\t}\\\\n\\\\t\\\\t}\\\\n\\\\nIL_0084:\\\\n\\\\t\\\\t{\\\\n\\\\t\\\\t\\\\tRuntimeObject* L_20 = V_2;\\\\n\\\\t\\\\t\\\\tNullCheck((RuntimeObject*)L_20);\\\\n\\\\t\\\\t\\\\tInterfaceActionInvoker0::Invoke(0 /* System.Void System.IDisposable::Dispose() */, IDisposable_t099785737FC6A1E3699919A94109383715A8D807_il2cpp_TypeInfo_var, (RuntimeObject*)L_20);\\\\n\\\\t\\\\t}\\\\n\\\\nIL_008a:\\\\n\\\\t\\\\t{\\\\n\\\\t\\\\t\\\\tIL2CPP_END_FINALLY(129)\\\\n\\\\t\\\\t}\\\\n\\\\t} // end finally (depth: 1)\\\\n\\\\tIL2CPP_CLEANUP(129)\\\\n\\\\t{\\\\n\\\\t\\\\tIL2CPP_RETHROW_IF_UNHANDLED(Exception_t *)\\\\n\\\\t\\\\tIL2CPP_JUMP_TBL(0x8B, IL_008b)\\\\n\\\\t}\\\\n\\\\nIL_008b:\\\\n\\\\t{\\\\n\\\\t\\\\treturn;\\\\n\\\\t}\\\\n}'}\",\n",
       "  '{\\'function_name\\': \\'readFile\\', \\'docstring\\': \\'//char *buffer = new char[length];\\\\r\\', \\'code\\': \\'bool testUnpacker(){\\\\r\\\\n\\\\tuint32 inst = 0xdeadface;\\\\r\\\\n\\\\tsize_t unpackerSize = sizeof(Instruction::UNPACKER);\\\\r\\\\n\\\\t//std::cout << \"sizeof(Instruction::UNPACKER) = \" << unpackerSize << endl;\\\\r\\\\n\\\\tif(unpackerSize != sizeof(uint32)){\\\\r\\\\n\\\\t\\\\treturn false;\\\\r\\\\n\\\\t}\\\\r\\\\n\\\\r\\\\n\\\\tInstruction::UNPACKER &inst2= reinterpret_cast<Instruction::UNPACKER &>(inst);\\\\r\\\\n\\\\r\\\\n\\\\tif(inst2.i.op != inst2.j.op){\\\\r\\\\n\\\\t\\\\treturn false;\\\\r\\\\n\\\\t}\\\\r\\\\n\\\\r\\\\n\\\\treturn true;\\\\r\\\\n}\\'}',\n",
       "  \"{'function_name': 'List_1_System_Collections_IList_Add_mB11B0BE086058B75AABAFE706CC3AAA0012259E8_gshared', 'docstring': '// end catch (depth: 1)', 'code': 'IL2CPP_EXTERN_C IL2CPP_METHOD_ATTR void List_1_System_Collections_ICollection_CopyTo_mE384ED5CFB72BD40E4ED9118312BBCCA784A85A8_gshared (List_1_t4172DDD081E8C31E82629AD17BC2912ECE329CCD * __this, RuntimeArray * ___array0, int32_t ___arrayIndex1, const RuntimeMethod* method)\\\\n{\\\\n\\\\til2cpp::utils::ExceptionSupportStack<RuntimeObject*, 1> __active_exceptions;\\\\n\\\\til2cpp::utils::ExceptionSupportStack<int32_t, 2> __leave_targets;\\\\n\\\\t{\\\\n\\\\t\\\\tRuntimeArray * L_0 = ___array0;\\\\n\\\\t\\\\tif (!L_0)\\\\n\\\\t\\\\t{\\\\n\\\\t\\\\t\\\\tgoto IL_0012;\\\\n\\\\t\\\\t}\\\\n\\\\t}\\\\n\\\\t{\\\\n\\\\t\\\\tRuntimeArray * L_1 = ___array0;\\\\n\\\\t\\\\tNullCheck((RuntimeArray *)L_1);\\\\n\\\\t\\\\tint32_t L_2;\\\\n\\\\t\\\\tL_2 = Array_get_Rank_mE9E4804EA433AA2265F9D9CA3B1B5082ECD757D0((RuntimeArray *)L_1, /*hidden argument*/NULL);\\\\n\\\\t\\\\tif ((((int32_t)L_2) == ((int32_t)1)))\\\\n\\\\t\\\\t{\\\\n\\\\t\\\\t\\\\tgoto IL_0012;\\\\n\\\\t\\\\t}\\\\n\\\\t}\\\\n\\\\t{\\\\n\\\\t\\\\tThrowHelper_ThrowArgumentException_m49831D19CFA6026A62C5D52FA7A8E162EBD4DD6A((int32_t)7, /*hidden argument*/NULL);\\\\n\\\\t}\\\\n\\\\nIL_0012:\\\\n\\\\t{\\\\n\\\\t}\\\\n\\\\nIL_0013:\\\\n\\\\ttry\\\\n\\\\t{ // begin try (depth: 1)\\\\n\\\\t\\\\tCachedShadowRecordU5BU5D_tFB0A186B518D32E07B7026306DEA9081F967962E* L_3 = (CachedShadowRecordU5BU5D_tFB0A186B518D32E07B7026306DEA9081F967962E*)__this->get__items_1();\\\\n\\\\t\\\\tRuntimeArray * L_4 = ___array0;\\\\n\\\\t\\\\tint32_t L_5 = ___arrayIndex1;\\\\n\\\\t\\\\tint32_t L_6 = (int32_t)__this->get__size_2();\\\\n\\\\t\\\\tArray_Copy_m3F127FFB5149532135043FFE285F9177C80CB877((RuntimeArray *)(RuntimeArray *)L_3, (int32_t)0, (RuntimeArray *)L_4, (int32_t)L_5, (int32_t)L_6, /*hidden argument*/NULL);\\\\n\\\\t\\\\tgoto IL_0033;\\\\n\\\\t} // end try (depth: 1)\\\\n\\\\tcatch(Il2CppExceptionWrapper& e)\\\\n\\\\t{\\\\n\\\\t\\\\tif(il2cpp_codegen_class_is_assignable_from (((RuntimeClass*)il2cpp_codegen_initialize_runtime_metadata_inline((uintptr_t*)&ArrayTypeMismatchException_tFD610FDA00012564CB75AFCA3A489F29CF628784_il2cpp_TypeInfo_var)), il2cpp_codegen_object_class(e.ex)))\\\\n\\\\t\\\\t{\\\\n\\\\t\\\\t\\\\tIL2CPP_PUSH_ACTIVE_EXCEPTION(e.ex);\\\\n\\\\t\\\\t\\\\tgoto CATCH_0029;\\\\n\\\\t\\\\t}\\\\n\\\\t\\\\tthrow e;\\\\n\\\\t}\\\\n\\\\nCATCH_0029:\\\\n\\\\t{ // begin catch(System.ArrayTypeMismatchException)\\\\n\\\\t\\\\tThrowHelper_ThrowArgumentException_m49831D19CFA6026A62C5D52FA7A8E162EBD4DD6A((int32_t)((int32_t)18), /*hidden argument*/NULL);\\\\n\\\\t\\\\tIL2CPP_POP_ACTIVE_EXCEPTION();\\\\n\\\\t\\\\tgoto IL_0033;\\\\n\\\\t} // end catch (depth: 1)\\\\n\\\\nIL_0033:\\\\n\\\\t{\\\\n\\\\t\\\\treturn;\\\\n\\\\t}\\\\n}'}\"],\n",
       " 'id': [1, 3, 4]}"
      ]
     },
     "execution_count": 1,
     "metadata": {},
     "output_type": "execute_result"
    }
   ],
   "source": [
    "from datasets import load_from_disk\n",
    "\n",
    "# Load the dataset from the current folder (adjust path if needed)\n",
    "dataset_path = \"functions_with_return_cpp_filtered_100000_no_chuck\"  # or the folder where your .arrow and .json files are\n",
    "\n",
    "seed_dataset = load_from_disk(dataset_path)\n",
    "\n",
    "# View a few entries\n",
    "seed_dataset[:3]"
   ]
  },
  {
   "cell_type": "code",
   "execution_count": 3,
   "id": "9536e1f0",
   "metadata": {},
   "outputs": [
    {
     "name": "stderr",
     "output_type": "stream",
     "text": [
      "Creating json from Arrow format: 100%|██████████| 7/7 [00:00<00:00, 65.30ba/s]\n"
     ]
    },
    {
     "name": "stdout",
     "output_type": "stream",
     "text": [
      "{\"content\":\"{'function_name': 'List_1_InsertRange_mDEF514565A34924F191DBC38F0E98BE48AD1AB6A_gshared', 'docstring': '\\/\\/ end finally (depth: 1)', 'code': 'IL2CPP_EXTERN_C IL2CPP_METHOD_ATTR void List_1__ctor_m2716C5BEDCDB58D5B0C144DA4837DAF99E86D871_gshared (List_1_t2DB9B7314D41FB8C9F99391E55195E3865AB0C35 * __this, RuntimeObject* ___collection0, const RuntimeMethod* method)\\\\n{\\\\n\\\\tstatic bool s_Il2CppMethodInitialized;\\\\n\\\\tif (!s_Il2CppMethodInitialized)\\\\n\\\\t{\\\\n\\\\t\\\\til2cpp_codegen_initialize_runtime_metadata((uintptr_t*)&IDisposable_t099785737FC6A1E3699919A94109383715A8D807_il2cpp_TypeInfo_var);\\\\n\\\\t\\\\til2cpp_codegen_initialize_runtime_metadata((uintptr_t*)&IEnumerator_t5956F3AFB7ECF1117E3BC5890E7FC7B7F7A04105_il2cpp_TypeInfo_var);\\\\n\\\\t\\\\ts_Il2CppMethodInitialized = true;\\\\n\\\\t}\\\\n\\\\tRuntimeObject* V_0 = NULL;\\\\n\\\\tint32_t V_1 = 0;\\\\n\\\\tRuntimeObject* V_2 = NULL;\\\\n\\\\tException_t * __last_unhandled_exception = 0;\\\\n\\\\til2cpp::utils::ExceptionSupportStack<int32_t, 1> __leave_targets;\\\\n\\\\t{\\\\n\\\\t\\\\tNullCheck((RuntimeObject *)__this);\\\\n\\\\t\\\\tObject__ctor_m88880E0413421D13FD95325EDCE231707CE1F405((RuntimeObject *)__this, \\/*hidden argument*\\/NULL);\\\\n\\\\t\\\\tRuntimeObject* L_0 = ___collection0;\\\\n\\\\t\\\\tif (L_0)\\\\n\\\\t\\\\t{\\\\n\\\\t\\\\t\\\\tgoto IL_000f;\\\\n\\\\t\\\\t}\\\\n\\\\t}\\\\n\\\\t{\\\\n\\\\t\\\\tThrowHelper_ThrowArgumentNullException_m539081110B94B71D92C9761B273E617B23B4BBA5((int32_t)6, \\/*hidden argument*\\/NULL);\\\\n\\\\t}\\\\n\\\\nIL_000f:\\\\n\\\\t{\\\\n\\\\t\\\\tRuntimeObject* L_1 = ___collection0;\\\\n\\\\t\\\\tV_0 = (RuntimeObject*)((RuntimeObject*)IsInst((RuntimeObject*)L_1, IL2CPP_RGCTX_DATA(method->klass->rgctx_data, 2)));\\\\n\\\\t\\\\tRuntimeObject* L_2 = V_0;\\\\n\\\\t\\\\tif (!L_2)\\\\n\\\\t\\\\t{\\\\n\\\\t\\\\t\\\\tgoto IL_0050;\\\\n\\\\t\\\\t}\\\\n\\\\t}\\\\n\\\\t{\\\\n\\\\t\\\\tRuntimeObject* L_3 = V_0;\\\\n\\\\t\\\\tNullCheck((RuntimeObject*)L_3);\\\\n\\\\t\\\\tint32_t L_4;\\\\n\\\\t\\\\tL_4 = InterfaceFuncInvoker0< int32_t >::Invoke(0 \\/* System.Int32 System.Collections.Generic.ICollection`1<kcp2k.Kcp\\/AckItem>::get_Count() *\\/, IL2CPP_RGCTX_DATA(method->klass->rgctx_data, 2), (RuntimeObject*)L_3);\\\\n\\\\t\\\\tV_1 = (int32_t)L_4;\\\\n\\\\t\\\\tint32_t L_5 = V_1;\\\\n\\\\t\\\\tif (L_5)\\\\n\\\\t\\\\t{\\\\n\\\\t\\\\t\\\\tgoto IL_002f;\\\\n\\\\t\\\\t}\\\\n\\\\t}\\\\n\\\\t{\\\\n\\\\t\\\\tIL2CPP_RUNTIME_CLASS_INIT(IL2CPP_RGCTX_DATA(method->klass->rgctx_data, 0));\\\\n\\\\t\\\\tAckItemU5BU5D_t16E6F0F8EDCAD3760512E2474ED18BA9CF03862C* L_6 = ((List_1_t2DB9B7314D41FB8C9F99391E55195E3865AB0C35_StaticFields*)il2cpp_codegen_static_fields_for(IL2CPP_RGCTX_DATA(method->klass->rgctx_data, 0)))->get__emptyArray_5();\\\\n\\\\t\\\\t__this->set__items_1(L_6);\\\\n\\\\t\\\\treturn;\\\\n\\\\t}\\\\n\\\\nIL_002f:\\\\n\\\\t{\\\\n\\\\t\\\\tint32_t L_7 = V_1;\\\\n\\\\t\\\\tAckItemU5BU5D_t16E6F0F8EDCAD3760512E2474ED18BA9CF03862C* L_8 = (AckItemU5BU5D_t16E6F0F8EDCAD3760512E2474ED18BA9CF03862C*)(AckItemU5BU5D_t16E6F0F8EDCAD3760512E2474ED18BA9CF03862C*)SZArrayNew(IL2CPP_RGCTX_DATA(method->klass->rgctx_data, 1), (uint32_t)L_7);\\\\n\\\\t\\\\t__this->set__items_1(L_8);\\\\n\\\\t\\\\tRuntimeObject* L_9 = V_0;\\\\n\\\\t\\\\tAckItemU5BU5D_t16E6F0F8EDCAD3760512E2474ED18BA9CF03862C* L_10 = (AckItemU5BU5D_t16E6F0F8EDCAD3760512E2474ED18BA9CF03862C*)__this->get__items_1();\\\\n\\\\t\\\\tNullCheck((RuntimeObject*)L_9);\\\\n\\\\t\\\\tInterfaceActionInvoker2< AckItemU5BU5D_t16E6F0F8EDCAD3760512E2474ED18BA9CF03862C*, int32_t >::Invoke(5 \\/* System.Void System.Collections.Generic.ICollection`1<kcp2k.Kcp\\/AckItem>::CopyTo(T[],System.Int32) *\\/, IL2CPP_RGCTX_DATA(method->klass->rgctx_data, 2), (RuntimeObject*)L_9, (AckItemU5BU5D_t16E6F0F8EDCAD3760512E2474ED18BA9CF03862C*)L_10, (int32_t)0);\\\\n\\\\t\\\\tint32_t L_11 = V_1;\\\\n\\\\t\\\\t__this->set__size_2(L_11);\\\\n\\\\t\\\\treturn;\\\\n\\\\t}\\\\n\\\\nIL_0050:\\\\n\\\\t{\\\\n\\\\t\\\\t__this->set__size_2(0);\\\\n\\\\t\\\\tIL2CPP_RUNTIME_CLASS_INIT(IL2CPP_RGCTX_DATA(method->klass->rgctx_data, 0));\\\\n\\\\t\\\\tAckItemU5BU5D_t16E6F0F8EDCAD3760512E2474ED18BA9CF03862C* L_12 = ((List_1_t2DB9B7314D41FB8C9F99391E55195E3865AB0C35_StaticFields*)il2cpp_codegen_static_fields_for(IL2CPP_RGCTX_DATA(method->klass->rgctx_data, 0)))->get__emptyArray_5();\\\\n\\\\t\\\\t__this->set__items_1(L_12);\\\\n\\\\t\\\\tRuntimeObject* L_13 = ___collection0;\\\\n\\\\t\\\\tNullCheck((RuntimeObject*)L_13);\\\\n\\\\t\\\\tRuntimeObject* L_14;\\\\n\\\\t\\\\tL_14 = InterfaceFuncInvoker0< RuntimeObject* >::Invoke(0 \\/* System.Collections.Generic.IEnumerator`1<T> System.Collections.Generic.IEnumerable`1<kcp2k.Kcp\\/AckItem>::GetEnumerator() *\\/, IL2CPP_RGCTX_DATA(method->klass->rgctx_data, 3), (RuntimeObject*)L_13);\\\\n\\\\t\\\\tV_2 = (RuntimeObject*)L_14;\\\\n\\\\t}\\\\n\\\\nIL_0069:\\\\n\\\\ttry\\\\n\\\\t{ \\/\\/ begin try (depth: 1)\\\\n\\\\t\\\\t{\\\\n\\\\t\\\\t\\\\tgoto IL_0077;\\\\n\\\\t\\\\t}\\\\n\\\\nIL_006b:\\\\n\\\\t\\\\t{\\\\n\\\\t\\\\t\\\\tRuntimeObject* L_15 = V_2;\\\\n\\\\t\\\\t\\\\tNullCheck((RuntimeObject*)L_15);\\\\n\\\\t\\\\t\\\\tAckItem_tD2ED0619A5C91987CDF01FD4C960708EF1524475  L_16;\\\\n\\\\t\\\\t\\\\tL_16 = InterfaceFuncInvoker0< AckItem_tD2ED0619A5C91987CDF01FD4C960708EF1524475  >::Invoke(0 \\/* T System.Collections.Generic.IEnumerator`1<kcp2k.Kcp\\/AckItem>::get_Current() *\\/, IL2CPP_RGCTX_DATA(method->klass->rgctx_data, 4), (RuntimeObject*)L_15);\\\\n\\\\t\\\\t\\\\tNullCheck((List_1_t2DB9B7314D41FB8C9F99391E55195E3865AB0C35 *)__this);\\\\n\\\\t\\\\t\\\\t((  void (*) (List_1_t2DB9B7314D41FB8C9F99391E55195E3865AB0C35 *, AckItem_tD2ED0619A5C91987CDF01FD4C960708EF1524475 , const RuntimeMethod*))IL2CPP_RGCTX_METHOD_INFO(method->klass->rgctx_data, 5)->methodPointer)((List_1_t2DB9B7314D41FB8C9F99391E55195E3865AB0C35 *)__this, (AckItem_tD2ED0619A5C91987CDF01FD4C960708EF1524475 )L_16, \\/*hidden argument*\\/IL2CPP_RGCTX_METHOD_INFO(method->klass->rgctx_data, 5));\\\\n\\\\t\\\\t}\\\\n\\\\nIL_0077:\\\\n\\\\t\\\\t{\\\\n\\\\t\\\\t\\\\tRuntimeObject* L_17 = V_2;\\\\n\\\\t\\\\t\\\\tNullCheck((RuntimeObject*)L_17);\\\\n\\\\t\\\\t\\\\tbool L_18;\\\\n\\\\t\\\\t\\\\tL_18 = InterfaceFuncInvoker0< bool >::Invoke(0 \\/* System.Boolean System.Collections.IEnumerator::MoveNext() *\\/, IEnumerator_t5956F3AFB7ECF1117E3BC5890E7FC7B7F7A04105_il2cpp_TypeInfo_var, (RuntimeObject*)L_17);\\\\n\\\\t\\\\t\\\\tif (L_18)\\\\n\\\\t\\\\t\\\\t{\\\\n\\\\t\\\\t\\\\t\\\\tgoto IL_006b;\\\\n\\\\t\\\\t\\\\t}\\\\n\\\\t\\\\t}\\\\n\\\\nIL_007f:\\\\n\\\\t\\\\t{\\\\n\\\\t\\\\t\\\\tIL2CPP_LEAVE(0x8B, FINALLY_0081);\\\\n\\\\t\\\\t}\\\\n\\\\t} \\/\\/ end try (depth: 1)\\\\n\\\\tcatch(Il2CppExceptionWrapper& e)\\\\n\\\\t{\\\\n\\\\t\\\\t__last_unhandled_exception = (Exception_t *)e.ex;\\\\n\\\\t\\\\tgoto FINALLY_0081;\\\\n\\\\t}\\\\n\\\\nFINALLY_0081:\\\\n\\\\t{ \\/\\/ begin finally (depth: 1)\\\\n\\\\t\\\\t{\\\\n\\\\t\\\\t\\\\tRuntimeObject* L_19 = V_2;\\\\n\\\\t\\\\t\\\\tif (!L_19)\\\\n\\\\t\\\\t\\\\t{\\\\n\\\\t\\\\t\\\\t\\\\tgoto IL_008a;\\\\n\\\\t\\\\t\\\\t}\\\\n\\\\t\\\\t}\\\\n\\\\nIL_0084:\\\\n\\\\t\\\\t{\\\\n\\\\t\\\\t\\\\tRuntimeObject* L_20 = V_2;\\\\n\\\\t\\\\t\\\\tNullCheck((RuntimeObject*)L_20);\\\\n\\\\t\\\\t\\\\tInterfaceActionInvoker0::Invoke(0 \\/* System.Void System.IDisposable::Dispose() *\\/, IDisposable_t099785737FC6A1E3699919A94109383715A8D807_il2cpp_TypeInfo_var, (RuntimeObject*)L_20);\\\\n\\\\t\\\\t}\\\\n\\\\nIL_008a:\\\\n\\\\t\\\\t{\\\\n\\\\t\\\\t\\\\tIL2CPP_END_FINALLY(129)\\\\n\\\\t\\\\t}\\\\n\\\\t} \\/\\/ end finally (depth: 1)\\\\n\\\\tIL2CPP_CLEANUP(129)\\\\n\\\\t{\\\\n\\\\t\\\\tIL2CPP_RETHROW_IF_UNHANDLED(Exception_t *)\\\\n\\\\t\\\\tIL2CPP_JUMP_TBL(0x8B, IL_008b)\\\\n\\\\t}\\\\n\\\\nIL_008b:\\\\n\\\\t{\\\\n\\\\t\\\\treturn;\\\\n\\\\t}\\\\n}'}\",\"id\":1}\n",
      "{\"content\":\"{'function_name': 'readFile', 'docstring': '\\/\\/char *buffer = new char[length];\\\\r', 'code': 'bool testUnpacker(){\\\\r\\\\n\\\\tuint32 inst = 0xdeadface;\\\\r\\\\n\\\\tsize_t unpackerSize = sizeof(Instruction::UNPACKER);\\\\r\\\\n\\\\t\\/\\/std::cout << \\\"sizeof(Instruction::UNPACKER) = \\\" << unpackerSize << endl;\\\\r\\\\n\\\\tif(unpackerSize != sizeof(uint32)){\\\\r\\\\n\\\\t\\\\treturn false;\\\\r\\\\n\\\\t}\\\\r\\\\n\\\\r\\\\n\\\\tInstruction::UNPACKER &inst2= reinterpret_cast<Instruction::UNPACKER &>(inst);\\\\r\\\\n\\\\r\\\\n\\\\tif(inst2.i.op != inst2.j.op){\\\\r\\\\n\\\\t\\\\treturn false;\\\\r\\\\n\\\\t}\\\\r\\\\n\\\\r\\\\n\\\\treturn true;\\\\r\\\\n}'}\",\"id\":3}\n",
      "{\"content\":\"{'function_name': 'List_1_System_Collections_IList_Add_mB11B0BE086058B75AABAFE706CC3AAA0012259E8_gshared', 'docstring': '\\/\\/ end catch (depth: 1)', 'code': 'IL2CPP_EXTERN_C IL2CPP_METHOD_ATTR void List_1_System_Collections_ICollection_CopyTo_mE384ED5CFB72BD40E4ED9118312BBCCA784A85A8_gshared (List_1_t4172DDD081E8C31E82629AD17BC2912ECE329CCD * __this, RuntimeArray * ___array0, int32_t ___arrayIndex1, const RuntimeMethod* method)\\\\n{\\\\n\\\\til2cpp::utils::ExceptionSupportStack<RuntimeObject*, 1> __active_exceptions;\\\\n\\\\til2cpp::utils::ExceptionSupportStack<int32_t, 2> __leave_targets;\\\\n\\\\t{\\\\n\\\\t\\\\tRuntimeArray * L_0 = ___array0;\\\\n\\\\t\\\\tif (!L_0)\\\\n\\\\t\\\\t{\\\\n\\\\t\\\\t\\\\tgoto IL_0012;\\\\n\\\\t\\\\t}\\\\n\\\\t}\\\\n\\\\t{\\\\n\\\\t\\\\tRuntimeArray * L_1 = ___array0;\\\\n\\\\t\\\\tNullCheck((RuntimeArray *)L_1);\\\\n\\\\t\\\\tint32_t L_2;\\\\n\\\\t\\\\tL_2 = Array_get_Rank_mE9E4804EA433AA2265F9D9CA3B1B5082ECD757D0((RuntimeArray *)L_1, \\/*hidden argument*\\/NULL);\\\\n\\\\t\\\\tif ((((int32_t)L_2) == ((int32_t)1)))\\\\n\\\\t\\\\t{\\\\n\\\\t\\\\t\\\\tgoto IL_0012;\\\\n\\\\t\\\\t}\\\\n\\\\t}\\\\n\\\\t{\\\\n\\\\t\\\\tThrowHelper_ThrowArgumentException_m49831D19CFA6026A62C5D52FA7A8E162EBD4DD6A((int32_t)7, \\/*hidden argument*\\/NULL);\\\\n\\\\t}\\\\n\\\\nIL_0012:\\\\n\\\\t{\\\\n\\\\t}\\\\n\\\\nIL_0013:\\\\n\\\\ttry\\\\n\\\\t{ \\/\\/ begin try (depth: 1)\\\\n\\\\t\\\\tCachedShadowRecordU5BU5D_tFB0A186B518D32E07B7026306DEA9081F967962E* L_3 = (CachedShadowRecordU5BU5D_tFB0A186B518D32E07B7026306DEA9081F967962E*)__this->get__items_1();\\\\n\\\\t\\\\tRuntimeArray * L_4 = ___array0;\\\\n\\\\t\\\\tint32_t L_5 = ___arrayIndex1;\\\\n\\\\t\\\\tint32_t L_6 = (int32_t)__this->get__size_2();\\\\n\\\\t\\\\tArray_Copy_m3F127FFB5149532135043FFE285F9177C80CB877((RuntimeArray *)(RuntimeArray *)L_3, (int32_t)0, (RuntimeArray *)L_4, (int32_t)L_5, (int32_t)L_6, \\/*hidden argument*\\/NULL);\\\\n\\\\t\\\\tgoto IL_0033;\\\\n\\\\t} \\/\\/ end try (depth: 1)\\\\n\\\\tcatch(Il2CppExceptionWrapper& e)\\\\n\\\\t{\\\\n\\\\t\\\\tif(il2cpp_codegen_class_is_assignable_from (((RuntimeClass*)il2cpp_codegen_initialize_runtime_metadata_inline((uintptr_t*)&ArrayTypeMismatchException_tFD610FDA00012564CB75AFCA3A489F29CF628784_il2cpp_TypeInfo_var)), il2cpp_codegen_object_class(e.ex)))\\\\n\\\\t\\\\t{\\\\n\\\\t\\\\t\\\\tIL2CPP_PUSH_ACTIVE_EXCEPTION(e.ex);\\\\n\\\\t\\\\t\\\\tgoto CATCH_0029;\\\\n\\\\t\\\\t}\\\\n\\\\t\\\\tthrow e;\\\\n\\\\t}\\\\n\\\\nCATCH_0029:\\\\n\\\\t{ \\/\\/ begin catch(System.ArrayTypeMismatchException)\\\\n\\\\t\\\\tThrowHelper_ThrowArgumentException_m49831D19CFA6026A62C5D52FA7A8E162EBD4DD6A((int32_t)((int32_t)18), \\/*hidden argument*\\/NULL);\\\\n\\\\t\\\\tIL2CPP_POP_ACTIVE_EXCEPTION();\\\\n\\\\t\\\\tgoto IL_0033;\\\\n\\\\t} \\/\\/ end catch (depth: 1)\\\\n\\\\nIL_0033:\\\\n\\\\t{\\\\n\\\\t\\\\treturn;\\\\n\\\\t}\\\\n}'}\",\"id\":4}\n"
     ]
    }
   ],
   "source": [
    "# Save the dataset as JSONL\n",
    "seed_dataset.to_json(\"functions_with_return_cpp_filtered_100000_no_chuck/seed_functions.jsonl\", orient=\"records\", lines=True)\n",
    "\n",
    "# Confirm the output file\n",
    "!head -n 3 functions_with_return_cpp_filtered_100000_no_chuck/seed_functions.jsonl"
   ]
  },
  {
   "cell_type": "code",
   "execution_count": 5,
   "id": "2635b054",
   "metadata": {},
   "outputs": [],
   "source": [
    "# Step 0: Setup paths and common settings\n",
    "SEED_DATA = \"functions_with_return_cpp_filtered_100000_no_chuck/seed_functions.jsonl\"  # contains extracted seed functions\n",
    "MODEL = \"gpt-3.5-turbo\"  # or your vLLM model endpoint alias # the model name doesn't matter when using vLLM's OpenAI endpoint\n",
    "\n",
    "SAVE_DIR = \"./outputs\"\n",
    "NUM_EXAMPLES = 100  # How many seed examples to process\n",
    "\n",
    "# Step 1: S -> C (Seed to Concepts)\n"
   ]
  },
  {
   "cell_type": "code",
   "execution_count": null,
   "id": "e5bd5897",
   "metadata": {},
   "outputs": [
    {
     "ename": "",
     "evalue": "",
     "output_type": "error",
     "traceback": [
      "\u001b[1;31mRunning cells with 'Python 3.10.12' requires the ipykernel package.\n",
      "\u001b[1;31m<a href='command:jupyter.createPythonEnvAndSelectController'>Create a Python Environment</a> with the required packages.\n",
      "\u001b[1;31mOr install 'ipykernel' using the command: '/bin/python3 -m pip install ipykernel -U --user --force-reinstall'"
     ]
    }
   ],
   "source": [
    "!python -m selfcodealign.src.star_align.self_ossinstruct --seed_data_files \"functions_with_return_cpp_filtered_100000_no_chuck/seed_functions.jsonl\" --max_new_data 100 --model dummy  --instruct_mode S->C --save_dir \"./outputs\""
   ]
  },
  {
   "cell_type": "code",
   "execution_count": null,
   "id": "94a913b1",
   "metadata": {},
   "outputs": [],
   "source": []
  }
 ],
 "metadata": {
  "kernelspec": {
   "display_name": "dl",
   "language": "python",
   "name": "python3"
  },
  "language_info": {
   "codemirror_mode": {
    "name": "ipython",
    "version": 3
   },
   "file_extension": ".py",
   "mimetype": "text/x-python",
   "name": "python",
   "nbconvert_exporter": "python",
   "pygments_lexer": "ipython3",
   "version": "3.8.20"
  }
 },
 "nbformat": 4,
 "nbformat_minor": 5
}
